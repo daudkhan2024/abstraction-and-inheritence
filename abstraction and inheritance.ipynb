{
 "cells": [
  {
   "cell_type": "code",
   "execution_count": 21,
   "id": "7d8cdc60",
   "metadata": {},
   "outputs": [],
   "source": [
    "class test:\n",
    "    def __init__(self,a,b,c,d):\n",
    "        self.__a = a\n",
    "        self.b = b\n",
    "        self.c = c\n",
    "        self.d = d\n",
    "    def test_custom(self,v):\n",
    "        return v - self.__a\n",
    "    def __str__(self):\n",
    "        return \"this is my test code for abstraction\""
   ]
  },
  {
   "cell_type": "code",
   "execution_count": 22,
   "id": "ce3cd479",
   "metadata": {},
   "outputs": [],
   "source": [
    "o = test(2,3,4,5)"
   ]
  },
  {
   "cell_type": "code",
   "execution_count": 25,
   "id": "d5176381",
   "metadata": {},
   "outputs": [
    {
     "data": {
      "text/plain": [
       "2"
      ]
     },
     "execution_count": 25,
     "metadata": {},
     "output_type": "execute_result"
    }
   ],
   "source": [
    "o._test__a"
   ]
  },
  {
   "cell_type": "code",
   "execution_count": 20,
   "id": "a1d9c79a",
   "metadata": {},
   "outputs": [
    {
     "name": "stdout",
     "output_type": "stream",
     "text": [
      "this is my test code for abstraction\n"
     ]
    }
   ],
   "source": [
    "print(o)"
   ]
  },
  {
   "cell_type": "code",
   "execution_count": 40,
   "id": "26e0ff7f",
   "metadata": {},
   "outputs": [
    {
     "data": {
      "text/plain": [
       "6"
      ]
     },
     "execution_count": 40,
     "metadata": {},
     "output_type": "execute_result"
    }
   ],
   "source": [
    "class test1(test):\n",
    "    def __init__(self,j,*args):\n",
    "        super(test1,self).__init__(*args)\n",
    "        self.j = j\n",
    "        \n",
    "m = test1(4,5,6,7,8)\n",
    "\n",
    "m.b"
   ]
  },
  {
   "cell_type": "code",
   "execution_count": 41,
   "id": "b1bece30",
   "metadata": {},
   "outputs": [
    {
     "data": {
      "text/plain": [
       "3"
      ]
     },
     "execution_count": 41,
     "metadata": {},
     "output_type": "execute_result"
    }
   ],
   "source": [
    "m.test_custom(8)"
   ]
  },
  {
   "cell_type": "code",
   "execution_count": 42,
   "id": "46050e48",
   "metadata": {},
   "outputs": [
    {
     "data": {
      "text/plain": [
       "7"
      ]
     },
     "execution_count": 42,
     "metadata": {},
     "output_type": "execute_result"
    }
   ],
   "source": [
    "m.c"
   ]
  },
  {
   "cell_type": "code",
   "execution_count": 43,
   "id": "d9595120",
   "metadata": {},
   "outputs": [
    {
     "data": {
      "text/plain": [
       "8"
      ]
     },
     "execution_count": 43,
     "metadata": {},
     "output_type": "execute_result"
    }
   ],
   "source": [
    "m.d"
   ]
  },
  {
   "cell_type": "code",
   "execution_count": 45,
   "id": "b391a19b",
   "metadata": {},
   "outputs": [],
   "source": [
    "#task\n",
    "#creat class test and test 1\n",
    "# inherit test and test1 into test 2\n",
    "#function a in test\n",
    "#function a in test 1\n",
    "#test2 should inherit fucntion a from test 1 and test both"
   ]
  },
  {
   "cell_type": "code",
   "execution_count": 47,
   "id": "0e370692",
   "metadata": {},
   "outputs": [
    {
     "name": "stdout",
     "output_type": "stream",
     "text": [
      "function a from class test \n",
      "function a from class test1\n"
     ]
    }
   ],
   "source": [
    "class test:\n",
    "    def a(self):\n",
    "        print(\"function a from class test \")\n",
    "class test1:\n",
    "    def a(self):\n",
    "        print(\"function a from class test1\")\n",
    "class test2(test,test1):\n",
    "    def a(self):\n",
    "        test.a(self)\n",
    "        test1.a(self)\n",
    "        \n",
    "t = test2()\n",
    "t.a()\n"
   ]
  },
  {
   "cell_type": "code",
   "execution_count": 83,
   "id": "d9094733",
   "metadata": {},
   "outputs": [],
   "source": [
    "#encapsulation\n",
    "class test:\n",
    "    def __init__(self,a,b,c):\n",
    "        self.a = a\n",
    "        self.b = b\n",
    "        self.c = c\n",
    "        \n",
    "    def __str__(elf):\n",
    "        return\"this is the return from test class\"\n",
    "\n",
    "    \n",
    "class test1:\n",
    "    def __init__(self,a,b,c):\n",
    "        self.a = a\n",
    "        self.b = b\n",
    "        self.c = c\n",
    "        \n",
    "    def __str__(self):\n",
    "        return\"this is the return from test1 class\"\n",
    "\n",
    "class test2:\n",
    "    def __init__(self,a,b,c):\n",
    "        self.a = a\n",
    "        self.b = b\n",
    "        self.c = c\n",
    "        \n",
    "    def __str__(self):\n",
    "        return\"this is the return from test2 class\"\n",
    "\n",
    "    \n",
    "class final:\n",
    "    \n",
    "    def __init__(self,x,y,z):\n",
    "        self.x = x\n",
    "        self.y = y\n",
    "        self.z = z\n",
    "        \n",
    "    def __str__(self):\n",
    "        return str(self.x)+\" \"+str(self.y)+\" \"+str(self.z)\n",
    "   \n"
   ]
  },
  {
   "cell_type": "code",
   "execution_count": 84,
   "id": "dbced876",
   "metadata": {},
   "outputs": [],
   "source": [
    "t = test(4,5,6)\n",
    "t1 = test1(2,3,4)\n",
    "t2 = test2(6,7,8)\n",
    "f = final(t,t1,\"khan\")"
   ]
  },
  {
   "cell_type": "code",
   "execution_count": 85,
   "id": "254d837e",
   "metadata": {},
   "outputs": [
    {
     "name": "stdout",
     "output_type": "stream",
     "text": [
      "this is the return from test class this is the return from test1 class khan\n"
     ]
    }
   ],
   "source": [
    "print(f)"
   ]
  },
  {
   "cell_type": "code",
   "execution_count": null,
   "id": "15dec21e",
   "metadata": {},
   "outputs": [],
   "source": []
  },
  {
   "cell_type": "code",
   "execution_count": null,
   "id": "74be157c",
   "metadata": {},
   "outputs": [],
   "source": []
  }
 ],
 "metadata": {
  "kernelspec": {
   "display_name": "Python 3 (ipykernel)",
   "language": "python",
   "name": "python3"
  },
  "language_info": {
   "codemirror_mode": {
    "name": "ipython",
    "version": 3
   },
   "file_extension": ".py",
   "mimetype": "text/x-python",
   "name": "python",
   "nbconvert_exporter": "python",
   "pygments_lexer": "ipython3",
   "version": "3.9.12"
  }
 },
 "nbformat": 4,
 "nbformat_minor": 5
}
