{
 "cells": [
  {
   "cell_type": "markdown",
   "id": "c5774af1",
   "metadata": {
    "papermill": {
     "duration": 0.006317,
     "end_time": "2023-03-07T16:34:13.825601",
     "exception": false,
     "start_time": "2023-03-07T16:34:13.819284",
     "status": "completed"
    },
    "tags": []
   },
   "source": [
    "**This notebook is an exercise in the [Data Visualization](https://www.kaggle.com/learn/data-visualization) course.  You can reference the tutorial at [this link](https://www.kaggle.com/alexisbcook/final-project).**\n",
    "\n",
    "---\n"
   ]
  },
  {
   "cell_type": "markdown",
   "id": "4279565d",
   "metadata": {
    "papermill": {
     "duration": 0.004287,
     "end_time": "2023-03-07T16:34:13.835521",
     "exception": false,
     "start_time": "2023-03-07T16:34:13.831234",
     "status": "completed"
    },
    "tags": []
   },
   "source": [
    "Now it's time for you to demonstrate your new skills with a project of your own!\n",
    "\n",
    "In this exercise, you will work with a dataset of your choosing.  Once you've selected a dataset, you'll design and create your own plot to tell interesting stories behind the data!\n",
    "\n",
    "## Setup\n",
    "\n",
    "Run the next cell to import and configure the Python libraries that you need to complete the exercise."
   ]
  },
  {
   "cell_type": "code",
   "execution_count": 1,
   "id": "e4932762",
   "metadata": {
    "execution": {
     "iopub.execute_input": "2023-03-07T16:34:13.846983Z",
     "iopub.status.busy": "2023-03-07T16:34:13.846378Z",
     "iopub.status.idle": "2023-03-07T16:34:15.190690Z",
     "shell.execute_reply": "2023-03-07T16:34:15.189300Z"
    },
    "papermill": {
     "duration": 1.353754,
     "end_time": "2023-03-07T16:34:15.193755",
     "exception": false,
     "start_time": "2023-03-07T16:34:13.840001",
     "status": "completed"
    },
    "tags": []
   },
   "outputs": [
    {
     "name": "stdout",
     "output_type": "stream",
     "text": [
      "Setup Complete\n"
     ]
    }
   ],
   "source": [
    "import pandas as pd\n",
    "pd.plotting.register_matplotlib_converters()\n",
    "import matplotlib.pyplot as plt\n",
    "%matplotlib inline\n",
    "import seaborn as sns\n",
    "print(\"Setup Complete\")"
   ]
  },
  {
   "cell_type": "markdown",
   "id": "b119876a",
   "metadata": {
    "papermill": {
     "duration": 0.00483,
     "end_time": "2023-03-07T16:34:15.203277",
     "exception": false,
     "start_time": "2023-03-07T16:34:15.198447",
     "status": "completed"
    },
    "tags": []
   },
   "source": [
    "The questions below will give you feedback on your work. Run the following cell to set up the feedback system."
   ]
  },
  {
   "cell_type": "code",
   "execution_count": 2,
   "id": "ef456795",
   "metadata": {
    "execution": {
     "iopub.execute_input": "2023-03-07T16:34:15.214532Z",
     "iopub.status.busy": "2023-03-07T16:34:15.214109Z",
     "iopub.status.idle": "2023-03-07T16:34:15.258336Z",
     "shell.execute_reply": "2023-03-07T16:34:15.257037Z"
    },
    "papermill": {
     "duration": 0.052969,
     "end_time": "2023-03-07T16:34:15.261064",
     "exception": false,
     "start_time": "2023-03-07T16:34:15.208095",
     "status": "completed"
    },
    "tags": []
   },
   "outputs": [
    {
     "name": "stdout",
     "output_type": "stream",
     "text": [
      "Setup Complete\n"
     ]
    }
   ],
   "source": [
    "# Set up code checking\n",
    "from learntools.core import binder\n",
    "binder.bind(globals())\n",
    "from learntools.data_viz_to_coder.ex7 import *\n",
    "print(\"Setup Complete\")"
   ]
  },
  {
   "cell_type": "markdown",
   "id": "e8500a7e",
   "metadata": {
    "papermill": {
     "duration": 0.004387,
     "end_time": "2023-03-07T16:34:15.270210",
     "exception": false,
     "start_time": "2023-03-07T16:34:15.265823",
     "status": "completed"
    },
    "tags": []
   },
   "source": [
    "## Step 1: Attach a dataset to the notebook\n",
    "\n",
    "Begin by selecting a CSV dataset from [Kaggle Datasets](https://www.kaggle.com/datasets).  If you're unsure how to do this, please revisit the instructions in the previous tutorial.\n",
    "\n",
    "Once you have selected a dataset, click on the **[+ Add data]** option in the top right corner.  This will generate a pop-up window that you can use to search for your chosen dataset.  \n",
    "\n",
    "![ex6_search_dataset](https://i.imgur.com/cIIWPUS.png)\n",
    "\n",
    "Once you have found the dataset, click on the **[Add]** button to attach it to the notebook.  You can check that it was successful by looking at the **Data** dropdown menu to the right of the notebook -- look for an **input** folder containing a subfolder that matches the name of the dataset.\n",
    "\n",
    "<center>\n",
    "<img src=\"https://i.imgur.com/nMYc1Nu.png\" width=30%><br/>\n",
    "</center>\n",
    "\n",
    "You can click on the carat to the left of the name of the dataset to double-check that it contains a CSV file.  For instance, the image below shows that the example dataset contains two CSV files: (1) **dc-wikia-data.csv**, and (2) **marvel-wikia-data.csv**.\n",
    "\n",
    "<center>\n",
    "<img src=\"https://i.imgur.com/B4sJkVA.png\" width=30%><br/>\n",
    "</center>\n",
    "\n",
    "Once you've uploaded a dataset with a CSV file, run the code cell below **without changes** to receive credit for your work!"
   ]
  },
  {
   "cell_type": "code",
   "execution_count": null,
   "id": "7924a465",
   "metadata": {
    "papermill": {
     "duration": 0.004307,
     "end_time": "2023-03-07T16:34:15.279170",
     "exception": false,
     "start_time": "2023-03-07T16:34:15.274863",
     "status": "completed"
    },
    "tags": []
   },
   "outputs": [],
   "source": []
  },
  {
   "cell_type": "code",
   "execution_count": 3,
   "id": "71caf59e",
   "metadata": {
    "execution": {
     "iopub.execute_input": "2023-03-07T16:34:15.290339Z",
     "iopub.status.busy": "2023-03-07T16:34:15.289945Z",
     "iopub.status.idle": "2023-03-07T16:34:15.312734Z",
     "shell.execute_reply": "2023-03-07T16:34:15.311104Z"
    },
    "papermill": {
     "duration": 0.031733,
     "end_time": "2023-03-07T16:34:15.315448",
     "exception": false,
     "start_time": "2023-03-07T16:34:15.283715",
     "status": "completed"
    },
    "tags": []
   },
   "outputs": [
    {
     "data": {
      "application/javascript": [
       "parent.postMessage({\"jupyterEvent\": \"custom.exercise_interaction\", \"data\": {\"outcomeType\": 1, \"valueTowardsCompletion\": 0.25, \"interactionType\": 1, \"questionType\": 2, \"questionId\": \"1_AttachData\", \"learnToolsVersion\": \"0.3.4\", \"failureMessage\": \"\", \"exceptionClass\": \"\", \"trace\": \"\"}}, \"*\")"
      ],
      "text/plain": [
       "<IPython.core.display.Javascript object>"
      ]
     },
     "metadata": {},
     "output_type": "display_data"
    },
    {
     "data": {
      "text/markdown": [
       "<span style=\"color:#33cc33\">Correct:</span> \n",
       "\n"
      ],
      "text/plain": [
       "Correct: \n"
      ]
     },
     "metadata": {},
     "output_type": "display_data"
    }
   ],
   "source": [
    "# Check for a dataset with a CSV file\n",
    "step_1.check()"
   ]
  },
  {
   "cell_type": "markdown",
   "id": "dec6739a",
   "metadata": {
    "papermill": {
     "duration": 0.004591,
     "end_time": "2023-03-07T16:34:15.325230",
     "exception": false,
     "start_time": "2023-03-07T16:34:15.320639",
     "status": "completed"
    },
    "tags": []
   },
   "source": [
    "## Step 2: Specify the filepath\n",
    "\n",
    "Now that the dataset is attached to the notebook, you can find its filepath.  To do this, begin by clicking on the CSV file you'd like to use.  This will open the CSV file in a tab below the notebook.  You can find the filepath towards the top of this new tab.  \n",
    "\n",
    "![ex6_filepath](https://i.imgur.com/fgXQV47.png)\n",
    "\n",
    "After you find the filepath corresponding to your dataset, fill it in as the value for `my_filepath` in the code cell below, and run the code cell to check that you've provided a valid filepath.  For instance, in the case of this example dataset, we would set\n",
    "```\n",
    "my_filepath = \"../input/fivethirtyeight-comic-characters-dataset/dc-wikia-data.csv\"\n",
    "```  \n",
    "Note that **you must enclose the filepath in quotation marks**; otherwise, the code will return an error.\n",
    "\n",
    "Once you've entered the filepath, you can close the tab below the notebook by clicking on the **[X]** at the top of the tab."
   ]
  },
  {
   "cell_type": "code",
   "execution_count": 4,
   "id": "8bbf0891",
   "metadata": {
    "execution": {
     "iopub.execute_input": "2023-03-07T16:34:15.337170Z",
     "iopub.status.busy": "2023-03-07T16:34:15.336572Z",
     "iopub.status.idle": "2023-03-07T16:34:15.346558Z",
     "shell.execute_reply": "2023-03-07T16:34:15.345460Z"
    },
    "papermill": {
     "duration": 0.018922,
     "end_time": "2023-03-07T16:34:15.348971",
     "exception": false,
     "start_time": "2023-03-07T16:34:15.330049",
     "status": "completed"
    },
    "tags": []
   },
   "outputs": [
    {
     "data": {
      "application/javascript": [
       "parent.postMessage({\"jupyterEvent\": \"custom.exercise_interaction\", \"data\": {\"outcomeType\": 1, \"valueTowardsCompletion\": 0.25, \"interactionType\": 1, \"questionType\": 2, \"questionId\": \"2_Filepath\", \"learnToolsVersion\": \"0.3.4\", \"failureMessage\": \"\", \"exceptionClass\": \"\", \"trace\": \"\"}}, \"*\")"
      ],
      "text/plain": [
       "<IPython.core.display.Javascript object>"
      ]
     },
     "metadata": {},
     "output_type": "display_data"
    },
    {
     "data": {
      "text/markdown": [
       "<span style=\"color:#33cc33\">Correct:</span> \n",
       "\n"
      ],
      "text/plain": [
       "Correct: \n"
      ]
     },
     "metadata": {},
     "output_type": "display_data"
    }
   ],
   "source": [
    "# Fill in the line below: Specify the path of the CSV file to read\n",
    "my_filepath = \"/kaggle/input/fivethirtyeight-comic-characters-dataset/dc-wikia-data.csv\"\n",
    "# Check for a valid filepath to a CSV file in a dataset\n",
    "step_2.check()"
   ]
  },
  {
   "cell_type": "markdown",
   "id": "c2e2b7cd",
   "metadata": {
    "papermill": {
     "duration": 0.004915,
     "end_time": "2023-03-07T16:34:15.359201",
     "exception": false,
     "start_time": "2023-03-07T16:34:15.354286",
     "status": "completed"
    },
    "tags": []
   },
   "source": [
    "## Step 3: Load the data\n",
    "\n",
    "Use the next code cell to load your data file into `my_data`.  Use the filepath that you specified in the previous step."
   ]
  },
  {
   "cell_type": "code",
   "execution_count": 5,
   "id": "aeb4e444",
   "metadata": {
    "execution": {
     "iopub.execute_input": "2023-03-07T16:34:15.371377Z",
     "iopub.status.busy": "2023-03-07T16:34:15.370984Z",
     "iopub.status.idle": "2023-03-07T16:34:15.445928Z",
     "shell.execute_reply": "2023-03-07T16:34:15.444370Z"
    },
    "papermill": {
     "duration": 0.08458,
     "end_time": "2023-03-07T16:34:15.448837",
     "exception": false,
     "start_time": "2023-03-07T16:34:15.364257",
     "status": "completed"
    },
    "tags": []
   },
   "outputs": [
    {
     "data": {
      "application/javascript": [
       "parent.postMessage({\"jupyterEvent\": \"custom.exercise_interaction\", \"data\": {\"outcomeType\": 1, \"valueTowardsCompletion\": 0.25, \"interactionType\": 1, \"questionType\": 2, \"questionId\": \"3_LoadData\", \"learnToolsVersion\": \"0.3.4\", \"failureMessage\": \"\", \"exceptionClass\": \"\", \"trace\": \"\"}}, \"*\")"
      ],
      "text/plain": [
       "<IPython.core.display.Javascript object>"
      ]
     },
     "metadata": {},
     "output_type": "display_data"
    },
    {
     "data": {
      "text/markdown": [
       "<span style=\"color:#33cc33\">Correct:</span> \n",
       "\n"
      ],
      "text/plain": [
       "Correct: \n"
      ]
     },
     "metadata": {},
     "output_type": "display_data"
    }
   ],
   "source": [
    "# Fill in the line below: Read the file into a variable my_data\n",
    "my_data =pd.read_csv(my_filepath,index_col=\"ID\")\n",
    "\n",
    "# Check that a dataset has been uploaded into my_data\n",
    "step_3.check()"
   ]
  },
  {
   "cell_type": "markdown",
   "id": "5f6f364c",
   "metadata": {
    "papermill": {
     "duration": 0.005253,
     "end_time": "2023-03-07T16:34:15.459894",
     "exception": false,
     "start_time": "2023-03-07T16:34:15.454641",
     "status": "completed"
    },
    "tags": []
   },
   "source": [
    "**_After the code cell above is marked correct_**, run the code cell below without changes to view the first five rows of the data."
   ]
  },
  {
   "cell_type": "code",
   "execution_count": null,
   "id": "79986374",
   "metadata": {
    "papermill": {
     "duration": 0.005109,
     "end_time": "2023-03-07T16:34:15.470624",
     "exception": false,
     "start_time": "2023-03-07T16:34:15.465515",
     "status": "completed"
    },
    "tags": []
   },
   "outputs": [],
   "source": []
  },
  {
   "cell_type": "code",
   "execution_count": 6,
   "id": "52479295",
   "metadata": {
    "execution": {
     "iopub.execute_input": "2023-03-07T16:34:15.484671Z",
     "iopub.status.busy": "2023-03-07T16:34:15.483680Z",
     "iopub.status.idle": "2023-03-07T16:34:15.518209Z",
     "shell.execute_reply": "2023-03-07T16:34:15.516704Z"
    },
    "papermill": {
     "duration": 0.045327,
     "end_time": "2023-03-07T16:34:15.521305",
     "exception": false,
     "start_time": "2023-03-07T16:34:15.475978",
     "status": "completed"
    },
    "tags": []
   },
   "outputs": [
    {
     "data": {
      "text/html": [
       "<div>\n",
       "<style scoped>\n",
       "    .dataframe tbody tr th:only-of-type {\n",
       "        vertical-align: middle;\n",
       "    }\n",
       "\n",
       "    .dataframe tbody tr th {\n",
       "        vertical-align: top;\n",
       "    }\n",
       "\n",
       "    .dataframe thead th {\n",
       "        text-align: right;\n",
       "    }\n",
       "</style>\n",
       "<table border=\"1\" class=\"dataframe\">\n",
       "  <thead>\n",
       "    <tr style=\"text-align: right;\">\n",
       "      <th></th>\n",
       "      <th>page_id</th>\n",
       "      <th>name</th>\n",
       "      <th>urlslug</th>\n",
       "      <th>ALIGN</th>\n",
       "      <th>EYE</th>\n",
       "      <th>HAIR</th>\n",
       "      <th>SEX</th>\n",
       "      <th>GSM</th>\n",
       "      <th>ALIVE</th>\n",
       "      <th>APPEARANCES</th>\n",
       "      <th>FIRST APPEARANCE</th>\n",
       "      <th>YEAR</th>\n",
       "    </tr>\n",
       "    <tr>\n",
       "      <th>ID</th>\n",
       "      <th></th>\n",
       "      <th></th>\n",
       "      <th></th>\n",
       "      <th></th>\n",
       "      <th></th>\n",
       "      <th></th>\n",
       "      <th></th>\n",
       "      <th></th>\n",
       "      <th></th>\n",
       "      <th></th>\n",
       "      <th></th>\n",
       "      <th></th>\n",
       "    </tr>\n",
       "  </thead>\n",
       "  <tbody>\n",
       "    <tr>\n",
       "      <th>Secret Identity</th>\n",
       "      <td>1422</td>\n",
       "      <td>Batman (Bruce Wayne)</td>\n",
       "      <td>\\/wiki\\/Batman_(Bruce_Wayne)</td>\n",
       "      <td>Good Characters</td>\n",
       "      <td>Blue Eyes</td>\n",
       "      <td>Black Hair</td>\n",
       "      <td>Male Characters</td>\n",
       "      <td>NaN</td>\n",
       "      <td>Living Characters</td>\n",
       "      <td>3093.0</td>\n",
       "      <td>1939, May</td>\n",
       "      <td>1939.0</td>\n",
       "    </tr>\n",
       "    <tr>\n",
       "      <th>Secret Identity</th>\n",
       "      <td>23387</td>\n",
       "      <td>Superman (Clark Kent)</td>\n",
       "      <td>\\/wiki\\/Superman_(Clark_Kent)</td>\n",
       "      <td>Good Characters</td>\n",
       "      <td>Blue Eyes</td>\n",
       "      <td>Black Hair</td>\n",
       "      <td>Male Characters</td>\n",
       "      <td>NaN</td>\n",
       "      <td>Living Characters</td>\n",
       "      <td>2496.0</td>\n",
       "      <td>1986, October</td>\n",
       "      <td>1986.0</td>\n",
       "    </tr>\n",
       "    <tr>\n",
       "      <th>Secret Identity</th>\n",
       "      <td>1458</td>\n",
       "      <td>Green Lantern (Hal Jordan)</td>\n",
       "      <td>\\/wiki\\/Green_Lantern_(Hal_Jordan)</td>\n",
       "      <td>Good Characters</td>\n",
       "      <td>Brown Eyes</td>\n",
       "      <td>Brown Hair</td>\n",
       "      <td>Male Characters</td>\n",
       "      <td>NaN</td>\n",
       "      <td>Living Characters</td>\n",
       "      <td>1565.0</td>\n",
       "      <td>1959, October</td>\n",
       "      <td>1959.0</td>\n",
       "    </tr>\n",
       "    <tr>\n",
       "      <th>Public Identity</th>\n",
       "      <td>1659</td>\n",
       "      <td>James Gordon (New Earth)</td>\n",
       "      <td>\\/wiki\\/James_Gordon_(New_Earth)</td>\n",
       "      <td>Good Characters</td>\n",
       "      <td>Brown Eyes</td>\n",
       "      <td>White Hair</td>\n",
       "      <td>Male Characters</td>\n",
       "      <td>NaN</td>\n",
       "      <td>Living Characters</td>\n",
       "      <td>1316.0</td>\n",
       "      <td>1987, February</td>\n",
       "      <td>1987.0</td>\n",
       "    </tr>\n",
       "    <tr>\n",
       "      <th>Secret Identity</th>\n",
       "      <td>1576</td>\n",
       "      <td>Richard Grayson (New Earth)</td>\n",
       "      <td>\\/wiki\\/Richard_Grayson_(New_Earth)</td>\n",
       "      <td>Good Characters</td>\n",
       "      <td>Blue Eyes</td>\n",
       "      <td>Black Hair</td>\n",
       "      <td>Male Characters</td>\n",
       "      <td>NaN</td>\n",
       "      <td>Living Characters</td>\n",
       "      <td>1237.0</td>\n",
       "      <td>1940, April</td>\n",
       "      <td>1940.0</td>\n",
       "    </tr>\n",
       "  </tbody>\n",
       "</table>\n",
       "</div>"
      ],
      "text/plain": [
       "                 page_id                         name  \\\n",
       "ID                                                      \n",
       "Secret Identity     1422         Batman (Bruce Wayne)   \n",
       "Secret Identity    23387        Superman (Clark Kent)   \n",
       "Secret Identity     1458   Green Lantern (Hal Jordan)   \n",
       "Public Identity     1659     James Gordon (New Earth)   \n",
       "Secret Identity     1576  Richard Grayson (New Earth)   \n",
       "\n",
       "                                             urlslug            ALIGN  \\\n",
       "ID                                                                      \n",
       "Secret Identity         \\/wiki\\/Batman_(Bruce_Wayne)  Good Characters   \n",
       "Secret Identity        \\/wiki\\/Superman_(Clark_Kent)  Good Characters   \n",
       "Secret Identity   \\/wiki\\/Green_Lantern_(Hal_Jordan)  Good Characters   \n",
       "Public Identity     \\/wiki\\/James_Gordon_(New_Earth)  Good Characters   \n",
       "Secret Identity  \\/wiki\\/Richard_Grayson_(New_Earth)  Good Characters   \n",
       "\n",
       "                        EYE        HAIR              SEX  GSM  \\\n",
       "ID                                                              \n",
       "Secret Identity   Blue Eyes  Black Hair  Male Characters  NaN   \n",
       "Secret Identity   Blue Eyes  Black Hair  Male Characters  NaN   \n",
       "Secret Identity  Brown Eyes  Brown Hair  Male Characters  NaN   \n",
       "Public Identity  Brown Eyes  White Hair  Male Characters  NaN   \n",
       "Secret Identity   Blue Eyes  Black Hair  Male Characters  NaN   \n",
       "\n",
       "                             ALIVE  APPEARANCES FIRST APPEARANCE    YEAR  \n",
       "ID                                                                        \n",
       "Secret Identity  Living Characters       3093.0        1939, May  1939.0  \n",
       "Secret Identity  Living Characters       2496.0    1986, October  1986.0  \n",
       "Secret Identity  Living Characters       1565.0    1959, October  1959.0  \n",
       "Public Identity  Living Characters       1316.0   1987, February  1987.0  \n",
       "Secret Identity  Living Characters       1237.0      1940, April  1940.0  "
      ]
     },
     "execution_count": 6,
     "metadata": {},
     "output_type": "execute_result"
    }
   ],
   "source": [
    "# Print the first five rows of the data\n",
    "my_data.head()"
   ]
  },
  {
   "cell_type": "markdown",
   "id": "8c3994a0",
   "metadata": {
    "papermill": {
     "duration": 0.005768,
     "end_time": "2023-03-07T16:34:15.533073",
     "exception": false,
     "start_time": "2023-03-07T16:34:15.527305",
     "status": "completed"
    },
    "tags": []
   },
   "source": [
    "## Step 4: Visualize the data\n",
    "\n",
    "Use the next code cell to create a figure that tells a story behind your dataset.  You can use any chart type (_line chart, bar chart, heatmap, etc_) of your choosing!"
   ]
  },
  {
   "cell_type": "code",
   "execution_count": 7,
   "id": "ac1b9768",
   "metadata": {
    "execution": {
     "iopub.execute_input": "2023-03-07T16:34:15.546659Z",
     "iopub.status.busy": "2023-03-07T16:34:15.546244Z",
     "iopub.status.idle": "2023-03-07T16:34:16.043765Z",
     "shell.execute_reply": "2023-03-07T16:34:16.042628Z"
    },
    "papermill": {
     "duration": 0.508102,
     "end_time": "2023-03-07T16:34:16.046929",
     "exception": false,
     "start_time": "2023-03-07T16:34:15.538827",
     "status": "completed"
    },
    "tags": []
   },
   "outputs": [
    {
     "data": {
      "application/javascript": [
       "parent.postMessage({\"jupyterEvent\": \"custom.exercise_interaction\", \"data\": {\"outcomeType\": 1, \"valueTowardsCompletion\": 0.25, \"interactionType\": 1, \"questionType\": 2, \"questionId\": \"4_CreatePlot\", \"learnToolsVersion\": \"0.3.4\", \"failureMessage\": \"\", \"exceptionClass\": \"\", \"trace\": \"\"}}, \"*\")"
      ],
      "text/plain": [
       "<IPython.core.display.Javascript object>"
      ]
     },
     "metadata": {},
     "output_type": "display_data"
    },
    {
     "data": {
      "text/markdown": [
       "<span style=\"color:#33cc33\">Correct:</span> \n",
       "\n"
      ],
      "text/plain": [
       "Correct: \n"
      ]
     },
     "metadata": {},
     "output_type": "display_data"
    },
    {
     "data": {
      "image/png": "[encoded data removed]",
      "text/plain": [
       "<Figure size 1000x600 with 1 Axes>"
      ]
     },
     "metadata": {},
     "output_type": "display_data"
    }
   ],
   "source": [
    "# Create a plot\n",
    "# Your code here\n",
    "# Change the style of the figure\n",
    "# Set the width and height of the figure\n",
    "plt.figure(figsize=(10,6))\n",
    "\n",
    "# Add title\n",
    "plt.title(\"Analysis of Dc wikia\")\n",
    "\n",
    "# Bar chart \n",
    "sns.barplot(x=my_data.index, y=my_data['YEAR'])\n",
    "\n",
    "# Add label for vertical axis\n",
    "plt.ylabel(\"YEAR\")\n",
    "\n",
    "# Check that a figure appears below\n",
    "step_4.check()"
   ]
  },
  {
   "cell_type": "markdown",
   "id": "063a8819",
   "metadata": {
    "papermill": {
     "duration": 0.006279,
     "end_time": "2023-03-07T16:34:16.059997",
     "exception": false,
     "start_time": "2023-03-07T16:34:16.053718",
     "status": "completed"
    },
    "tags": []
   },
   "source": [
    "## Keep going\n",
    "\n",
    "Learn how to use your skills after completing the micro-course to create data visualizations in a **[final tutorial](https://www.kaggle.com/alexisbcook/creating-your-own-notebooks)**."
   ]
  },
  {
   "cell_type": "markdown",
   "id": "e570d8cf",
   "metadata": {
    "papermill": {
     "duration": 0.00621,
     "end_time": "2023-03-07T16:34:16.073210",
     "exception": false,
     "start_time": "2023-03-07T16:34:16.067000",
     "status": "completed"
    },
    "tags": []
   },
   "source": [
    "---\n",
    "\n",
    "\n",
    "\n",
    "\n",
    "*Have questions or comments? Visit the [course discussion forum](https://www.kaggle.com/learn/data-visualization/discussion) to chat with other learners.*"
   ]
  }
 ],
 "metadata": {
  "kernelspec": {
   "display_name": "Python 3",
   "language": "python",
   "name": "python3"
  },
  "language_info": {
   "codemirror_mode": {
    "name": "ipython",
    "version": 3
   },
   "file_extension": ".py",
   "mimetype": "text/x-python",
   "name": "python",
   "nbconvert_exporter": "python",
   "pygments_lexer": "ipython3",
   "version": "3.7.12"
  },
  "papermill": {
   "default_parameters": {},
   "duration": 13.754818,
   "end_time": "2023-03-07T16:34:16.903970",
   "environment_variables": {},
   "exception": null,
   "input_path": "__notebook__.ipynb",
   "output_path": "__notebook__.ipynb",
   "parameters": {},
   "start_time": "2023-03-07T16:34:03.149152",
   "version": "2.4.0"
  }
 },
 "nbformat": 4,
 "nbformat_minor": 5
}
